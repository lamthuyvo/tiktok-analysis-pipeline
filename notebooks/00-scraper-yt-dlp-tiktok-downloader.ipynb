{
 "cells": [
  {
   "cell_type": "markdown",
   "id": "0b5de667-0d05-476a-9607-9cfcb3152ba6",
   "metadata": {},
   "source": [
    "### Download videos from TikTok using YTL DLP\n",
    "\n",
    "This script uses the library [`YTL DLP`](https://github.com/yt-dlp/yt-dlp) to download TikTok videos."
   ]
  },
  {
   "cell_type": "code",
   "execution_count": 1,
   "id": "f24981bb-5b0b-4341-ad7a-0d898fff9dcb",
   "metadata": {},
   "outputs": [],
   "source": [
    "import json\n",
    "import time\n",
    "\n",
    "import pandas as pd\n",
    "import yt_dlp"
   ]
  },
  {
   "cell_type": "markdown",
   "id": "a7d90091-bf23-4899-a6f0-bc57912bb920",
   "metadata": {},
   "source": [
    "This sets up a function to download videos:"
   ]
  },
  {
   "cell_type": "code",
   "execution_count": 2,
   "id": "9b9f05ef-a592-4797-a392-8aa1e2934a05",
   "metadata": {},
   "outputs": [
    {
     "name": "stderr",
     "output_type": "stream",
     "text": [
      "Deprecated Feature: Support for Python version 3.8 has been deprecated. Please update to Python 3.9 or above\n"
     ]
    }
   ],
   "source": [
    "# ℹ️ See help(yt_dlp.YoutubeDL) for a list of available options and public functions\n",
    "\n",
    "foldername = \"demure\" #<-- specify that name of the folder in your output folder where you want to store videos\n",
    "ydl_opts = {\n",
    "    'quiet': True,\n",
    "    'no_warnings': True,\n",
    "    'skip_download': False, \n",
    "    'outtmpl': '../output/'+ foldername+'/%(id)s.%(ext)s' #<-- this determines the file name and location\n",
    "}\n",
    "\n",
    "ydl = yt_dlp.YoutubeDL(ydl_opts)\n",
    "\n",
    "def get_video_metadata(video_url):\n",
    "    try:\n",
    "        info = ydl.extract_info(video_url, download=True)\n",
    "        return info\n",
    "    except Exception as e:\n",
    "        print(f\"An error occurred: {e}\")\n",
    "        return None"
   ]
  },
  {
   "cell_type": "markdown",
   "id": "c05402ba-6c8f-4a2e-8a3a-71e7af0e6c73",
   "metadata": {},
   "source": [
    "#### Import urls\n",
    "Here we need to import links from a spreadsheet for us to download from TikTok. "
   ]
  },
  {
   "cell_type": "code",
   "execution_count": 3,
   "id": "3aea5a3a-90d2-4b55-8377-ff2a2f97466b",
   "metadata": {},
   "outputs": [
    {
     "data": {
      "text/html": [
       "<div>\n",
       "<style scoped>\n",
       "    .dataframe tbody tr th:only-of-type {\n",
       "        vertical-align: middle;\n",
       "    }\n",
       "\n",
       "    .dataframe tbody tr th {\n",
       "        vertical-align: top;\n",
       "    }\n",
       "\n",
       "    .dataframe thead th {\n",
       "        text-align: right;\n",
       "    }\n",
       "</style>\n",
       "<table border=\"1\" class=\"dataframe\">\n",
       "  <thead>\n",
       "    <tr style=\"text-align: right;\">\n",
       "      <th></th>\n",
       "      <th>link</th>\n",
       "      <th>video_count</th>\n",
       "      <th>handle</th>\n",
       "    </tr>\n",
       "  </thead>\n",
       "  <tbody>\n",
       "    <tr>\n",
       "      <th>0</th>\n",
       "      <td>https://www.tiktok.com/@joolieannie/video/7399...</td>\n",
       "      <td>53.3M</td>\n",
       "      <td>@joolieannie</td>\n",
       "    </tr>\n",
       "    <tr>\n",
       "      <th>1</th>\n",
       "      <td>https://www.tiktok.com/@joolieannie/video/7425...</td>\n",
       "      <td>11.9K</td>\n",
       "      <td>@joolieannie</td>\n",
       "    </tr>\n",
       "    <tr>\n",
       "      <th>2</th>\n",
       "      <td>https://www.tiktok.com/@joolieannie/video/7425...</td>\n",
       "      <td>52.7K</td>\n",
       "      <td>@joolieannie</td>\n",
       "    </tr>\n",
       "    <tr>\n",
       "      <th>3</th>\n",
       "      <td>https://www.tiktok.com/@joolieannie/video/7425...</td>\n",
       "      <td>107K</td>\n",
       "      <td>@joolieannie</td>\n",
       "    </tr>\n",
       "    <tr>\n",
       "      <th>4</th>\n",
       "      <td>https://www.tiktok.com/@joolieannie/video/7425...</td>\n",
       "      <td>335.5K</td>\n",
       "      <td>@joolieannie</td>\n",
       "    </tr>\n",
       "  </tbody>\n",
       "</table>\n",
       "</div>"
      ],
      "text/plain": [
       "                                                link video_count        handle\n",
       "0  https://www.tiktok.com/@joolieannie/video/7399...       53.3M  @joolieannie\n",
       "1  https://www.tiktok.com/@joolieannie/video/7425...       11.9K  @joolieannie\n",
       "2  https://www.tiktok.com/@joolieannie/video/7425...       52.7K  @joolieannie\n",
       "3  https://www.tiktok.com/@joolieannie/video/7425...        107K  @joolieannie\n",
       "4  https://www.tiktok.com/@joolieannie/video/7425...      335.5K  @joolieannie"
      ]
     },
     "execution_count": 3,
     "metadata": {},
     "output_type": "execute_result"
    }
   ],
   "source": [
    "videos = pd.read_csv(\"../output/@joolieannietiktoks.csv\")\n",
    "videos.head()"
   ]
  },
  {
   "cell_type": "code",
   "execution_count": 4,
   "id": "d3f1411f-00f9-434d-bd96-995302ee8b36",
   "metadata": {},
   "outputs": [
    {
     "name": "stdout",
     "output_type": "stream",
     "text": [
      "921\n"
     ]
    }
   ],
   "source": [
    "video_urls = videos[\"link\"].tolist()\n",
    "print(len(video_urls))"
   ]
  },
  {
   "cell_type": "markdown",
   "id": "69ac9c5e-07ac-4031-be4a-2c78ead0a017",
   "metadata": {},
   "source": [
    "The next few lines take the links and download each video. Note that in this script we're only getting the first ten videos. If you want to download all videos from the profile, change this line `for video_url in video_urls[:10]:` to `for video_url in video_urls:`."
   ]
  },
  {
   "cell_type": "code",
   "execution_count": 5,
   "id": "39d4d489-edaa-4112-abc2-68cf20ef89e5",
   "metadata": {
    "scrolled": true
   },
   "outputs": [
    {
     "name": "stdout",
     "output_type": "stream",
     "text": [
      "CPU times: user 1.37 s, sys: 720 ms, total: 2.09 s         \n",
      "Wall time: 27.4 s\n"
     ]
    }
   ],
   "source": [
    "%%time \n",
    "rows = []\n",
    "\n",
    "for video_url in video_urls[:10]: # <-- note that in this script we're only getting the first ten videos \n",
    "\n",
    "    metadata = get_video_metadata(video_url)\n",
    "    if metadata:\n",
    "        # Print the entire metadata dictionary\n",
    "        # print(json.dumps(metadata, indent=2))\n",
    "        row = {\n",
    "            \"title\": metadata['title'] if 'title' in metadata else None,\n",
    "            \"duration\": metadata['duration'] if 'duration' in metadata else None,\n",
    "            \"view_count\": metadata['view_count'] if 'view_count' in metadata  else None,\n",
    "            \"upload_date\": metadata['upload_date'] if 'upload_date' in metadata  else None,\n",
    "            \"artist\": metadata['artist'] if 'artist' in metadata else None,\n",
    "            \"like_count\": metadata[\"like_count\"] if 'like_count' in metadata  else None,\n",
    "            \"repost_count\": metadata[\"repost_count\"] if 'repost_count' in metadata else None,\n",
    "            \"comment_count\": metadata[\"comment_count\"] if 'comment_count' in metadata else None,\n",
    "            \"video_url\": video_url\n",
    "        }\n",
    "        rows.append(row)"
   ]
  },
  {
   "cell_type": "markdown",
   "id": "52848907-4bd3-4f1e-91e1-9c561119e1f6",
   "metadata": {},
   "source": [
    "Then we load the videos as a dataframe and export it as a csv file: "
   ]
  },
  {
   "cell_type": "code",
   "execution_count": 6,
   "id": "648a8e58-c5d9-4d79-a35b-cc682eb0dfd7",
   "metadata": {},
   "outputs": [],
   "source": [
    "videos_metadata = pd.DataFrame(rows)\n",
    "\n",
    "videos_metadata.to_csv(\"../output/tiktok_videos_metadata.csv\", index=False)"
   ]
  },
  {
   "cell_type": "code",
   "execution_count": 7,
   "id": "a7c74cec-9a03-40ef-9895-482eea8019db",
   "metadata": {},
   "outputs": [
    {
     "data": {
      "text/plain": [
       "10"
      ]
     },
     "execution_count": 7,
     "metadata": {},
     "output_type": "execute_result"
    }
   ],
   "source": [
    "len(rows)\n"
   ]
  },
  {
   "cell_type": "code",
   "execution_count": null,
   "id": "9801a9ca-29c1-4dbe-b8d9-60d14b162182",
   "metadata": {},
   "outputs": [],
   "source": []
  }
 ],
 "metadata": {
  "kernelspec": {
   "display_name": "Python 3 (ipykernel)",
   "language": "python",
   "name": "python3"
  },
  "language_info": {
   "codemirror_mode": {
    "name": "ipython",
    "version": 3
   },
   "file_extension": ".py",
   "mimetype": "text/x-python",
   "name": "python",
   "nbconvert_exporter": "python",
   "pygments_lexer": "ipython3",
   "version": "3.8.18"
  }
 },
 "nbformat": 4,
 "nbformat_minor": 5
}
