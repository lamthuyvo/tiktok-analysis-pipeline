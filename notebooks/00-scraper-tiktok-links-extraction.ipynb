{
 "cells": [
  {
   "cell_type": "markdown",
   "id": "3e15f17f-bbb0-471c-b554-554fd8991a98",
   "metadata": {
    "editable": true,
    "slideshow": {
     "slide_type": ""
    },
    "tags": []
   },
   "source": [
    "### Tiktok link scraper\n",
    "\n",
    "This script extracts links for tiktok vidoes from html pages. In this example, we scrolled through the end of the profile of one user ([@joolieanne](https://www.tiktok.com/@joolieannie)) until it stopped updating. Then we downloaded the site and stored it in the data folder."
   ]
  },
  {
   "cell_type": "code",
   "execution_count": 1,
   "id": "f0d72e19-ebeb-40d8-993f-14c6415c5555",
   "metadata": {},
   "outputs": [],
   "source": [
    "import glob\n",
    "\n",
    "from bs4 import BeautifulSoup # to parse HTML, documentation: https://www.crummy.com/software/BeautifulSoup/bs4/doc/\n",
    "import pandas as pd # to use pandas to process data\n"
   ]
  },
  {
   "cell_type": "markdown",
   "id": "b1d8cda1-f251-4013-9669-dad6f86e0987",
   "metadata": {},
   "source": [
    "These lines of code grab every path in our `../data/sites/` folder.\n"
   ]
  },
  {
   "cell_type": "code",
   "execution_count": 2,
   "id": "89291cec-e17c-4dcd-befe-fa2e9e9a0be7",
   "metadata": {},
   "outputs": [],
   "source": [
    "paths = glob.glob(\"../data/sites/*.html\") # *.pdf can be replaced with other file extensions, like *.html, or left blank"
   ]
  },
  {
   "cell_type": "code",
   "execution_count": 3,
   "id": "843c3b20-ac74-4c96-ab56-d5fb6e046333",
   "metadata": {},
   "outputs": [
    {
     "data": {
      "text/plain": [
       "['../data/sites/Jools Lebron (@joolieannie) _ TikTok.html']"
      ]
     },
     "execution_count": 3,
     "metadata": {},
     "output_type": "execute_result"
    }
   ],
   "source": [
    "paths"
   ]
  },
  {
   "cell_type": "markdown",
   "id": "558b8f56-eff1-423e-a8b7-7911fa840970",
   "metadata": {},
   "source": [
    "This code cycles through each page (if there are more than one) and extracts links, viewcounts and handles of the videos. TikTok may ocassionally change the way in which its websites are structure and this was code that extracted information from an HTML page accessed on October 14, 2024. "
   ]
  },
  {
   "cell_type": "code",
   "execution_count": 4,
   "id": "50870614-6e5d-41d8-b489-d956b19a65ef",
   "metadata": {},
   "outputs": [],
   "source": [
    "for path in paths:\n",
    "    tiktoks  = []\n",
    "    with open(path) as page:\n",
    "        soup = BeautifulSoup(page,  \"html.parser\")\n",
    "        contents = soup.find_all(\"div\", class_=\"css-8dx572-DivContainer-StyledDivContainerV2\") # <-- inspect the code of the page you will \n",
    "        for item in contents:\n",
    "            link = item.find(\"a\")[\"href\"] if item.find(\"a\")[\"href\"] != None else None\n",
    "            handle = link.split(\"/\")[3] if len(link.split(\"/\")) > 4 else None\n",
    "            video_count = item.find(\"strong\").get_text()\n",
    "            \n",
    "            row = {\n",
    "                    \"link\": link,\n",
    "                    \"video_count\": video_count,\n",
    "                    \"handle\": handle\n",
    "                }\n",
    "            tiktoks.append(row)\n",
    "\n",
    "        tiktoks_df = pd.DataFrame(tiktoks)\n",
    "        tiktoks_df.to_csv(\"../output/\"+handle+\"tiktoks.csv\", index=False)\n",
    "        \n",
    "  "
   ]
  },
  {
   "cell_type": "code",
   "execution_count": 5,
   "id": "5c234ea7-622b-4967-ba79-2e9a07a29b2f",
   "metadata": {},
   "outputs": [
    {
     "data": {
      "text/plain": [
       "921"
      ]
     },
     "execution_count": 5,
     "metadata": {},
     "output_type": "execute_result"
    }
   ],
   "source": [
    "len(tiktoks)"
   ]
  },
  {
   "cell_type": "code",
   "execution_count": null,
   "id": "c51db9d1-a245-49c5-b7f9-78fa279d436a",
   "metadata": {},
   "outputs": [],
   "source": []
  },
  {
   "cell_type": "code",
   "execution_count": null,
   "id": "3c44ae9a-e6a7-47d6-8d2a-20cba6d90bb9",
   "metadata": {},
   "outputs": [],
   "source": []
  },
  {
   "cell_type": "code",
   "execution_count": null,
   "id": "7864242d-daa8-4f3d-b597-5de6a9125e8a",
   "metadata": {},
   "outputs": [],
   "source": []
  },
  {
   "cell_type": "code",
   "execution_count": null,
   "id": "90d15121-e0ad-412a-ab37-0bc81a9a6f3c",
   "metadata": {},
   "outputs": [],
   "source": []
  }
 ],
 "metadata": {
  "kernelspec": {
   "display_name": "Python 3 (ipykernel)",
   "language": "python",
   "name": "python3"
  },
  "language_info": {
   "codemirror_mode": {
    "name": "ipython",
    "version": 3
   },
   "file_extension": ".py",
   "mimetype": "text/x-python",
   "name": "python",
   "nbconvert_exporter": "python",
   "pygments_lexer": "ipython3",
   "version": "3.8.18"
  }
 },
 "nbformat": 4,
 "nbformat_minor": 5
}
